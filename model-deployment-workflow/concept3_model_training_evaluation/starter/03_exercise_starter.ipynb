{
 "cells": [
  {
   "cell_type": "markdown",
   "metadata": {},
   "source": [
    "# Exercise: Model Training and Evaluation\n",
    "\n",
    "Now that we have the data fundamentals for creating, cleaning, and modifying our datasets, we can train and evaluate a model, in this case it's a linear regression model.\n",
    "\n",
    "Your tasks for this exercise are:\n",
    "1. Create a dataframe with the regression dataset, include the features and target within the same dataframe.\n",
    "2. Create a 60% Train / 20% Validation / 20% Test dataset group using the `train_test_split` method.\n",
    "3. Fit the LinearRegression model on the training set.\n",
    "4. Evaluate the model on the validation set.\n",
    "5. Evaluate the model on the test set."
   ]
  },
  {
   "cell_type": "code",
   "execution_count": 12,
   "metadata": {},
   "outputs": [],
   "source": [
    "import pandas as pd\n",
    "from sklearn.datasets import make_regression\n",
    "from sklearn.model_selection import train_test_split\n",
    "from sklearn.linear_model import LinearRegression"
   ]
  },
  {
   "cell_type": "code",
   "execution_count": 3,
   "metadata": {},
   "outputs": [],
   "source": [
    "regression_dataset = make_regression(\n",
    "    n_samples=10000,\n",
    "    n_features=10,\n",
    "    n_informative=5,\n",
    "    bias=0,\n",
    "    noise=40,\n",
    "    n_targets=1,\n",
    "    random_state=0,\n",
    ")"
   ]
  },
  {
   "cell_type": "code",
   "execution_count": 16,
   "metadata": {},
   "outputs": [
    {
     "data": {
      "text/plain": [
       "2"
      ]
     },
     "execution_count": 16,
     "metadata": {},
     "output_type": "execute_result"
    }
   ],
   "source": [
    "len(regression_dataset) # returns X, y\n",
    "# https://scikit-learn.org/stable/modules/generated/sklearn.datasets.make_regression.html"
   ]
  },
  {
   "cell_type": "code",
   "execution_count": 17,
   "metadata": {},
   "outputs": [],
   "source": [
    "# Create the dataframe using the dataset\n",
    "df = pd.DataFrame(regression_dataset[0])\n",
    "df[\"target\"] = regression_dataset[1]"
   ]
  },
  {
   "cell_type": "code",
   "execution_count": 18,
   "metadata": {},
   "outputs": [
    {
     "data": {
      "text/html": [
       "<div>\n",
       "<style scoped>\n",
       "    .dataframe tbody tr th:only-of-type {\n",
       "        vertical-align: middle;\n",
       "    }\n",
       "\n",
       "    .dataframe tbody tr th {\n",
       "        vertical-align: top;\n",
       "    }\n",
       "\n",
       "    .dataframe thead th {\n",
       "        text-align: right;\n",
       "    }\n",
       "</style>\n",
       "<table border=\"1\" class=\"dataframe\">\n",
       "  <thead>\n",
       "    <tr style=\"text-align: right;\">\n",
       "      <th></th>\n",
       "      <th>0</th>\n",
       "      <th>1</th>\n",
       "      <th>2</th>\n",
       "      <th>3</th>\n",
       "      <th>4</th>\n",
       "      <th>5</th>\n",
       "      <th>6</th>\n",
       "      <th>7</th>\n",
       "      <th>8</th>\n",
       "      <th>9</th>\n",
       "      <th>target</th>\n",
       "    </tr>\n",
       "  </thead>\n",
       "  <tbody>\n",
       "    <tr>\n",
       "      <th>0</th>\n",
       "      <td>-1.039309</td>\n",
       "      <td>-0.533254</td>\n",
       "      <td>0.006352</td>\n",
       "      <td>-0.130216</td>\n",
       "      <td>-0.672371</td>\n",
       "      <td>-1.227693</td>\n",
       "      <td>-1.605115</td>\n",
       "      <td>0.313087</td>\n",
       "      <td>1.709311</td>\n",
       "      <td>1.486217</td>\n",
       "      <td>-190.336109</td>\n",
       "    </tr>\n",
       "    <tr>\n",
       "      <th>1</th>\n",
       "      <td>0.906268</td>\n",
       "      <td>1.112101</td>\n",
       "      <td>-0.816500</td>\n",
       "      <td>0.461619</td>\n",
       "      <td>0.883569</td>\n",
       "      <td>1.125719</td>\n",
       "      <td>-0.993897</td>\n",
       "      <td>0.999854</td>\n",
       "      <td>-1.919401</td>\n",
       "      <td>-1.137031</td>\n",
       "      <td>33.264389</td>\n",
       "    </tr>\n",
       "    <tr>\n",
       "      <th>2</th>\n",
       "      <td>0.334137</td>\n",
       "      <td>0.320004</td>\n",
       "      <td>-0.248267</td>\n",
       "      <td>-0.317444</td>\n",
       "      <td>0.834343</td>\n",
       "      <td>1.381073</td>\n",
       "      <td>0.901058</td>\n",
       "      <td>-0.655725</td>\n",
       "      <td>0.340868</td>\n",
       "      <td>-1.481551</td>\n",
       "      <td>120.287805</td>\n",
       "    </tr>\n",
       "    <tr>\n",
       "      <th>3</th>\n",
       "      <td>0.250441</td>\n",
       "      <td>-1.215110</td>\n",
       "      <td>-1.562450</td>\n",
       "      <td>0.162566</td>\n",
       "      <td>-1.630155</td>\n",
       "      <td>-0.449801</td>\n",
       "      <td>-1.033361</td>\n",
       "      <td>-0.671750</td>\n",
       "      <td>-1.331549</td>\n",
       "      <td>-0.979638</td>\n",
       "      <td>-472.599566</td>\n",
       "    </tr>\n",
       "    <tr>\n",
       "      <th>4</th>\n",
       "      <td>-1.440993</td>\n",
       "      <td>-0.388298</td>\n",
       "      <td>-0.431737</td>\n",
       "      <td>0.518420</td>\n",
       "      <td>-0.405904</td>\n",
       "      <td>-0.785488</td>\n",
       "      <td>1.008090</td>\n",
       "      <td>-0.695019</td>\n",
       "      <td>1.885108</td>\n",
       "      <td>-0.913755</td>\n",
       "      <td>42.355214</td>\n",
       "    </tr>\n",
       "  </tbody>\n",
       "</table>\n",
       "</div>"
      ],
      "text/plain": [
       "          0         1         2         3         4         5         6  \\\n",
       "0 -1.039309 -0.533254  0.006352 -0.130216 -0.672371 -1.227693 -1.605115   \n",
       "1  0.906268  1.112101 -0.816500  0.461619  0.883569  1.125719 -0.993897   \n",
       "2  0.334137  0.320004 -0.248267 -0.317444  0.834343  1.381073  0.901058   \n",
       "3  0.250441 -1.215110 -1.562450  0.162566 -1.630155 -0.449801 -1.033361   \n",
       "4 -1.440993 -0.388298 -0.431737  0.518420 -0.405904 -0.785488  1.008090   \n",
       "\n",
       "          7         8         9      target  \n",
       "0  0.313087  1.709311  1.486217 -190.336109  \n",
       "1  0.999854 -1.919401 -1.137031   33.264389  \n",
       "2 -0.655725  0.340868 -1.481551  120.287805  \n",
       "3 -0.671750 -1.331549 -0.979638 -472.599566  \n",
       "4 -0.695019  1.885108 -0.913755   42.355214  "
      ]
     },
     "execution_count": 18,
     "metadata": {},
     "output_type": "execute_result"
    }
   ],
   "source": [
    "# `.head()` to view what the dataset looks like\n",
    "df.head()"
   ]
  },
  {
   "cell_type": "code",
   "execution_count": 22,
   "metadata": {},
   "outputs": [],
   "source": [
    "# train: 0.8 | test: 0.2\n",
    "df_train, df_test = train_test_split(df, test_size=0.2, random_state=42)\n",
    "\n",
    "# train: 0.6 | validation: 0.2\n",
    "df_train, df_val = train_test_split(df_train, test_size=0.25, random_state=42)\n",
    "\n",
    "# Final dataset sizes: train: 0.6, validation: 0.2, text: 0.2,\n",
    "# the 0.25 in the second split is an annoying inference you have to do in this situation \n",
    "# to achieve the proportions we want"
   ]
  },
  {
   "cell_type": "code",
   "execution_count": 23,
   "metadata": {},
   "outputs": [
    {
     "name": "stdout",
     "output_type": "stream",
     "text": [
      "Train: (6000, 11)\n",
      "Validation: (2000, 11)\n",
      "Test: (2000, 11)\n"
     ]
    }
   ],
   "source": [
    "# Output each shape to confirm the size of train/validation/test\n",
    "print(f\"Train: {df_train.shape}\")\n",
    "print(f\"Validation: {df_val.shape}\")\n",
    "print(f\"Test: {df_test.shape}\")"
   ]
  },
  {
   "cell_type": "code",
   "execution_count": 29,
   "metadata": {},
   "outputs": [],
   "source": [
    "# Train the linear model by fitting it on the dataframe features and dataframe target\n",
    "reg = LinearRegression().fit(df_train[list(range(10))], df_train['target'])"
   ]
  },
  {
   "cell_type": "code",
   "execution_count": 32,
   "metadata": {},
   "outputs": [
    {
     "data": {
      "text/plain": [
       "0.9348302915752845"
      ]
     },
     "execution_count": 32,
     "metadata": {},
     "output_type": "execute_result"
    }
   ],
   "source": [
    "# Evaluate the linear model by scoring it, by default it's the metric r2.\n",
    "reg.score(df_test[list(range(10))], df_test['target'])"
   ]
  },
  {
   "cell_type": "code",
   "execution_count": 33,
   "metadata": {},
   "outputs": [
    {
     "data": {
      "text/plain": [
       "0.9334395179692372"
      ]
     },
     "execution_count": 33,
     "metadata": {},
     "output_type": "execute_result"
    }
   ],
   "source": [
    "# Once done optimizing the model using the validation dataset,\n",
    "# Evaluate the linear model by scoring it on the test dataset.\n",
    "reg.score(df_val[list(range(10))], df_val['target'])"
   ]
  },
  {
   "cell_type": "code",
   "execution_count": null,
   "metadata": {},
   "outputs": [],
   "source": []
  }
 ],
 "metadata": {
  "kernelspec": {
   "display_name": "Python 3 (Data Science)",
   "language": "python",
   "name": "python3__SAGEMAKER_INTERNAL__arn:aws:sagemaker:us-east-1:081325390199:image/datascience-1.0"
  },
  "language_info": {
   "codemirror_mode": {
    "name": "ipython",
    "version": 3
   },
   "file_extension": ".py",
   "mimetype": "text/x-python",
   "name": "python",
   "nbconvert_exporter": "python",
   "pygments_lexer": "ipython3",
   "version": "3.7.10"
  }
 },
 "nbformat": 4,
 "nbformat_minor": 5
}
